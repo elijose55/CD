{
 "cells": [
  {
   "cell_type": "markdown",
   "metadata": {},
   "source": [
    "___\n",
    "# Ciência dos Dados - PROJETO 1"
   ]
  },
  {
   "cell_type": "markdown",
   "metadata": {},
   "source": [
    "Eli Jose Abi Ghosn\n",
    "\n",
    "___"
   ]
  },
  {
   "cell_type": "markdown",
   "metadata": {},
   "source": [
    "## Evolução do acesso a internet nas regiões brasileiras: Renda per capita"
   ]
  },
  {
   "cell_type": "markdown",
   "metadata": {},
   "source": [
    "___\n",
    "## Introdução\n",
    "\n",
    "Esse projeto tem como objetivo analisar qual região do Brasil teve o maior aumento no acesso a internet entre os anos de 2013, 2014 e 2015. Além disso, será também identificada em qual zona houve o maior aumento no acesso a internet, na rural ou urbana, e e a distribuição do acesso a internet entre as faixas de renda. Para isso será utilizado a base de dados da PNAD domicílio 2013, 2014 e 2015, sendo essas processadas por meio da seleção e tratramento das variáveis de interesse utilizando a biblioteca PANDAS do python."
   ]
  },
  {
   "cell_type": "markdown",
   "metadata": {},
   "source": [
    "___\n",
    "## Análise e Resultados"
   ]
  },
  {
   "cell_type": "code",
   "execution_count": 218,
   "metadata": {
    "collapsed": true
   },
   "outputs": [],
   "source": [
    "%matplotlib inline\n",
    "import pandas as pd\n",
    "import matplotlib.pyplot as plt\n",
    "import numpy as np\n",
    "import os\n",
    "from numpy import arange"
   ]
  },
  {
   "cell_type": "code",
   "execution_count": 219,
   "metadata": {},
   "outputs": [
    {
     "name": "stdout",
     "output_type": "stream",
     "text": [
      "Esperamos trabalhar no diretório\n",
      "C:\\Users\\elijo\\Downloads\n"
     ]
    }
   ],
   "source": [
    "print('Esperamos trabalhar no diretório')\n",
    "print(os.getcwd())"
   ]
  },
  {
   "cell_type": "code",
   "execution_count": 239,
   "metadata": {},
   "outputs": [
    {
     "data": {
      "text/plain": [
       "count    12555.000000\n",
       "mean       609.147909\n",
       "std        729.009516\n",
       "min          0.000000\n",
       "25%        232.000000\n",
       "50%        450.000000\n",
       "75%        788.000000\n",
       "max      30000.000000\n",
       "Name: Renda, dtype: float64"
      ]
     },
     "execution_count": 239,
     "metadata": {},
     "output_type": "execute_result"
    }
   ],
   "source": [
    "#Se usar o arquivo descompactado\n",
    "#pd.read_csv('DOM2015.csv',sep=',')\n",
    "\n",
    "dados = pd.read_csv('DOM2015.csv',sep=',')\n",
    "\n",
    "#regiao\n",
    "dados.loc[(dados.UF<18), 'Regiao'] = 'Norte'\n",
    "dados.loc[(dados.UF>20) & (dados.UF<30), 'Regiao'] = 'Nordeste'\n",
    "dados.loc[(dados.UF>30) & (dados.UF<36), 'Regiao'] = 'Sudeste'\n",
    "dados.loc[(dados.UF>40) & (dados.UF<44), 'Regiao'] = 'Sul'\n",
    "dados.loc[(dados.UF>45), 'Regiao'] = 'Centro-Oeste'\n",
    "dados.UF = dados.UF.astype('category')\n",
    "\n",
    "dados = dados.loc[:,['V02322','V4105', 'Regiao','V4621']]\n",
    "\n",
    "dados = dados[(dados.V02322<=4.0)]\n",
    "\n",
    "\n",
    "dados.V02322 = dados.V02322.astype('category')\n",
    "\n",
    "\n",
    "#zona\n",
    "dados.loc[(dados.V4105<4),'Zona'] = 'Urbana'\n",
    "dados.loc[(dados.V4105>3),'Zona'] = 'Rural'\n",
    "dados.Zona = dados.Zona.astype('category')\n",
    "\n",
    "#internet\n",
    "dados=dados.rename(columns = {'V02322':'Internet'})\n",
    "dados.Internet.cat.categories = ('Sim','Nao')\n",
    "\n",
    "\n",
    "#renda\n",
    "dados=dados.rename(columns = {'V4621':'Renda'})\n",
    "\n",
    "dados = dados.loc[:,['Internet','Zona', 'Regiao','Renda']]\n",
    "\n",
    "dados = dados[(dados.Renda!=999999999999)]\n",
    "\n",
    "dados.head()\n",
    "dados.Renda[(dados.Internet=='Nao') & (dados.Zona=='Rural')].describe()\n"
   ]
  },
  {
   "cell_type": "code",
   "execution_count": 255,
   "metadata": {},
   "outputs": [
    {
     "name": "stdout",
     "output_type": "stream",
     "text": [
      "Frequências relativas:\n",
      "[0, 4)            0.462004\n",
      "[4, 8)            0.015931\n",
      "[8, 12)           0.023897\n",
      "[12, 16)          0.079656\n",
      "[16, 20)          0.055759\n",
      "[20, 24)          0.055759\n",
      "[24, 28)          0.151346\n",
      "[28, 32)          0.183209\n",
      "[32, 36)          0.215071\n",
      "[36, 40)          0.605385\n",
      "[40, 44)          0.278796\n",
      "[44, 48)          0.286761\n",
      "[48, 52)          0.493866\n",
      "[52, 56)          0.294727\n",
      "[56, 60)          0.414211\n",
      "[60, 64)          0.462004\n",
      "[64, 68)          0.493866\n",
      "[68, 72)          0.342520\n",
      "[72, 76)          0.454039\n",
      "[76, 80)          0.605385\n",
      "[80, 84)          0.414211\n",
      "[84, 88)          0.414211\n",
      "[88, 92)          0.469970\n",
      "[92, 96)          0.398279\n",
      "[96, 100)         0.406245\n",
      "[100, 104)        0.868249\n",
      "[104, 108)        0.438107\n",
      "[108, 112)        0.438107\n",
      "[112, 116)        0.446073\n",
      "[116, 120)        0.398279\n",
      "                    ...   \n",
      "[29876, 29880)    0.000000\n",
      "[29880, 29884)    0.000000\n",
      "[29884, 29888)    0.000000\n",
      "[29888, 29892)    0.000000\n",
      "[29892, 29896)    0.000000\n",
      "[29896, 29900)    0.000000\n",
      "[29900, 29904)    0.000000\n",
      "[29904, 29908)    0.000000\n",
      "[29908, 29912)    0.000000\n",
      "[29912, 29916)    0.000000\n",
      "[29916, 29920)    0.000000\n",
      "[29920, 29924)    0.000000\n",
      "[29924, 29928)    0.000000\n",
      "[29928, 29932)    0.000000\n",
      "[29932, 29936)    0.000000\n",
      "[29936, 29940)    0.000000\n",
      "[29940, 29944)    0.000000\n",
      "[29944, 29948)    0.000000\n",
      "[29948, 29952)    0.000000\n",
      "[29952, 29956)    0.000000\n",
      "[29956, 29960)    0.000000\n",
      "[29960, 29964)    0.000000\n",
      "[29964, 29968)    0.000000\n",
      "[29968, 29972)    0.000000\n",
      "[29972, 29976)    0.000000\n",
      "[29976, 29980)    0.000000\n",
      "[29980, 29984)    0.000000\n",
      "[29984, 29988)    0.000000\n",
      "[29988, 29992)    0.000000\n",
      "[29992, 29996)    0.000000\n",
      "Name: Renda, dtype: float64 \n",
      "\n"
     ]
    }
   ],
   "source": [
    "# classes de renda\n",
    "\n",
    "faixa = arange(0,30000,4)\n",
    "\n",
    "r = pd.cut(dados.Renda[(dados.Internet=='Nao')&(dados.Zona=='Rural')], bins=faixa, right=False)\n",
    "print('Frequências relativas:')\n",
    "ut1 = (r.value_counts(sort=False, normalize=True)*100).round(decimals=10)\n",
    "print(ut1,'\\n')"
   ]
  },
  {
   "cell_type": "code",
   "execution_count": 258,
   "metadata": {},
   "outputs": [
    {
     "data": {
      "image/png": "[encoded data removed]",
      "text/plain": [
       "<matplotlib.figure.Figure at 0x23835e72390>"
      ]
     },
     "metadata": {},
     "output_type": "display_data"
    }
   ],
   "source": [
    "# Gráfico de colunas\n",
    "from numpy import zeros_like\n",
    "plot = dados.Renda[(dados.Internet=='Nao')&(dados.Zona=='Rural')].plot.hist(bins=faixa,title='Acesso a Internet', weights=zeros_like(dados.Renda[(dados.Internet=='Nao')&(dados.Zona=='Rural')])+1./dados.Renda[dados.Internet=='Sim'].size*100, figsize=(6, 6), alpha=0.5)\n",
    "plt.ylabel('Frequência relativa (em %)')\n",
    "plt.xlabel('renda (em mil reais)')\n",
    "plt.ylim([0 ,0.09])\n",
    "plt.show()"
   ]
  },
  {
   "cell_type": "code",
   "execution_count": 127,
   "metadata": {},
   "outputs": [
    {
     "name": "stdout",
     "output_type": "stream",
     "text": [
      "Frequências absolutas por Internet:\n",
      "Sim    67834\n",
      "Nao    49767\n",
      "Name: Internet, dtype: int64 \n",
      "\n"
     ]
    }
   ],
   "source": [
    "#frequencia absoluta internet\n",
    "print('Frequências absolutas por Internet:')\n",
    "t = dados.Internet.value_counts(sort=False)\n",
    "print(t,'\\n')"
   ]
  },
  {
   "cell_type": "code",
   "execution_count": null,
   "metadata": {
    "collapsed": true
   },
   "outputs": [],
   "source": []
  },
  {
   "cell_type": "code",
   "execution_count": 128,
   "metadata": {},
   "outputs": [
    {
     "name": "stdout",
     "output_type": "stream",
     "text": [
      "Frequências relativa por Internet:\n",
      "Sim    57.7\n",
      "Nao    42.3\n",
      "Name: Internet, dtype: float64 \n",
      "\n"
     ]
    }
   ],
   "source": [
    "#frequencia relativa internet\n",
    "print('Frequências relativa por Internet:')\n",
    "t = (dados.Internet.value_counts(sort=False, normalize=True)*100).round(decimals=1)\n",
    "print(t,'\\n')"
   ]
  },
  {
   "cell_type": "code",
   "execution_count": 147,
   "metadata": {},
   "outputs": [
    {
     "name": "stdout",
     "output_type": "stream",
     "text": [
      "Frequências relativas por Internet:\n"
     ]
    },
    {
     "data": {
      "text/plain": [
       "<matplotlib.text.Text at 0x238056d3080>"
      ]
     },
     "execution_count": 147,
     "metadata": {},
     "output_type": "execute_result"
    },
    {
     "data": {
      "image/png": "[encoded data removed]",
      "text/plain": [
       "<matplotlib.figure.Figure at 0x2380596ea90>"
      ]
     },
     "metadata": {},
     "output_type": "display_data"
    }
   ],
   "source": [
    "#grafico da frequencia absoluta de acesso a internet\n",
    "print('Frequências relativas por Internet:')\n",
    "g = (dados.Internet.value_counts(sort=False, normalize=True)*100).round(decimals=1)\n",
    "plot = g.plot(kind='bar',title='Internet',figsize=(2, 3),color=('b','r'))\n",
    "plt.ylabel('Freq.Relativa (em %)')\n",
    "plt.xlabel('Acesso a Internet')"
   ]
  },
  {
   "cell_type": "code",
   "execution_count": 133,
   "metadata": {},
   "outputs": [
    {
     "name": "stdout",
     "output_type": "stream",
     "text": [
      "Frequências relativas por Regiao:\n"
     ]
    },
    {
     "data": {
      "image/png": "[encoded data removed]",
      "text/plain": [
       "<matplotlib.figure.Figure at 0x238059286a0>"
      ]
     },
     "metadata": {},
     "output_type": "display_data"
    },
    {
     "data": {
      "image/png": "[encoded data removed]",
      "text/plain": [
       "<matplotlib.figure.Figure at 0x23805928828>"
      ]
     },
     "metadata": {},
     "output_type": "display_data"
    }
   ],
   "source": [
    "#grafico da frequencia relativa de Regiao\n",
    "\n",
    "print('Frequências relativas por Regiao:')\n",
    "g = (dados.Regiao.value_counts(sort=False, normalize=True)*100).round(decimals=1)\n",
    "\n",
    "plot = g.plot(kind='bar',title='Regioes',figsize=(4, 4),color=('b','r','g','y','m'))\n",
    "plt.ylabel('Freq.Relativa (em %)')\n",
    "plt.xlabel('Regioes')\n",
    "\n",
    "\n",
    "\n",
    "#grafico de pizza\n",
    "fig = plt.figure(figsize=(18, 5))\n",
    "plt.subplot(133)\n",
    "plot = g.plot(kind='pie',title='Regioes',autopct='%.1f')\n",
    "plt.show()"
   ]
  },
  {
   "cell_type": "code",
   "execution_count": 113,
   "metadata": {},
   "outputs": [
    {
     "name": "stdout",
     "output_type": "stream",
     "text": [
      "Frequências relativas por Zona:\n"
     ]
    },
    {
     "data": {
      "text/plain": [
       "<matplotlib.text.Text at 0x23804c06a58>"
      ]
     },
     "execution_count": 113,
     "metadata": {},
     "output_type": "execute_result"
    },
    {
     "data": {
      "image/png": "[encoded data removed]",
      "text/plain": [
       "<matplotlib.figure.Figure at 0x23804467080>"
      ]
     },
     "metadata": {},
     "output_type": "display_data"
    }
   ],
   "source": [
    "#grafico da frequencia relativa de Zona\n",
    "\n",
    "print('Frequências relativas por Zona:')\n",
    "ut1 = (dados.Zona.value_counts(sort=False, normalize=True)*100).round(decimals=1)\n",
    "\n",
    "plot = ut1.plot(kind='bar',title='Zonas',figsize=(2, 2),color=('b','g'))\n",
    "plt.ylabel('Freq.Relativa (em %)')\n",
    "plt.xlabel('Zonas')"
   ]
  },
  {
   "cell_type": "code",
   "execution_count": 142,
   "metadata": {},
   "outputs": [
    {
     "data": {
      "text/html": [
       "<div>\n",
       "<table border=\"1\" class=\"dataframe\">\n",
       "  <thead>\n",
       "    <tr style=\"text-align: right;\">\n",
       "      <th>Regiao</th>\n",
       "      <th>Sim</th>\n",
       "      <th>Nao</th>\n",
       "    </tr>\n",
       "    <tr>\n",
       "      <th>Internet</th>\n",
       "      <th></th>\n",
       "      <th></th>\n",
       "    </tr>\n",
       "  </thead>\n",
       "  <tbody>\n",
       "    <tr>\n",
       "      <th>Centro-Oeste</th>\n",
       "      <td>61.9</td>\n",
       "      <td>38.1</td>\n",
       "    </tr>\n",
       "    <tr>\n",
       "      <th>Nordeste</th>\n",
       "      <td>49.3</td>\n",
       "      <td>50.7</td>\n",
       "    </tr>\n",
       "    <tr>\n",
       "      <th>Norte</th>\n",
       "      <td>47.7</td>\n",
       "      <td>52.3</td>\n",
       "    </tr>\n",
       "    <tr>\n",
       "      <th>Sudeste</th>\n",
       "      <td>65.4</td>\n",
       "      <td>34.6</td>\n",
       "    </tr>\n",
       "    <tr>\n",
       "      <th>Sul</th>\n",
       "      <td>63.3</td>\n",
       "      <td>36.7</td>\n",
       "    </tr>\n",
       "    <tr>\n",
       "      <th>All</th>\n",
       "      <td>57.7</td>\n",
       "      <td>42.3</td>\n",
       "    </tr>\n",
       "  </tbody>\n",
       "</table>\n",
       "</div>"
      ],
      "text/plain": [
       "Regiao         Sim   Nao\n",
       "Internet                \n",
       "Centro-Oeste  61.9  38.1\n",
       "Nordeste      49.3  50.7\n",
       "Norte         47.7  52.3\n",
       "Sudeste       65.4  34.6\n",
       "Sul           63.3  36.7\n",
       "All           57.7  42.3"
      ]
     },
     "execution_count": 142,
     "metadata": {},
     "output_type": "execute_result"
    }
   ],
   "source": [
    "#tabela Internet por Regiao\n",
    "#mostra a frequencia relativa a amostra total (%)\n",
    "ct1=(pd.crosstab(dados.Regiao, dados.Internet, margins=True, rownames=['Internet'], colnames=['Regiao'], normalize='index')*100).round(decimals=1)\n",
    "ct1"
   ]
  },
  {
   "cell_type": "code",
   "execution_count": 161,
   "metadata": {},
   "outputs": [
    {
     "data": {
      "image/png": "[encoded data removed]",
      "text/plain": [
       "<matplotlib.figure.Figure at 0x23806408160>"
      ]
     },
     "metadata": {},
     "output_type": "display_data"
    }
   ],
   "source": [
    "plot = ct1.iloc[0:5,0:2].plot(kind='bar')\n",
    "ax = plt.subplot(111)\n",
    "box = ax.get_position()\n",
    "ax.set_position([box.x0, box.y0, box.width * 0.8, box.height])\n",
    "ax.legend(loc='center left', bbox_to_anchor=(1, 0.5))\n",
    "plt.ylabel('Freq.Relativa (em %)')\n",
    "plt.show()"
   ]
  },
  {
   "cell_type": "code",
   "execution_count": 158,
   "metadata": {},
   "outputs": [
    {
     "name": "stdout",
     "output_type": "stream",
     "text": [
      "Internet       Sim   Nao   All\n",
      "Regiao                        \n",
      "Centro-Oeste  11.4   9.6  10.6\n",
      "Nordeste      23.7  33.2  27.7\n",
      "Norte         11.8  17.6  14.3\n",
      "Sudeste       35.0  25.2  30.8\n",
      "Sul           18.2  14.4  16.6\n"
     ]
    },
    {
     "data": {
      "image/png": "[encoded data removed]",
      "text/plain": [
       "<matplotlib.figure.Figure at 0x238060bbfd0>"
      ]
     },
     "metadata": {},
     "output_type": "display_data"
    }
   ],
   "source": [
    "ct2 = (pd.crosstab(dados.Regiao,dados.Internet,margins=True,rownames=['Regiao'], colnames=['Internet'], normalize='columns')*100).round(decimals=1)\n",
    "print(ct2)\n",
    "\n",
    "plot = ct2.iloc[0:5,0:2].T.plot(kind='bar', stacked=True,title='Acesso a Internet por regiao')\n",
    "plot.set_ylim([0, 100])\n",
    "plt.ylabel('Freq.Relativa (em %)')\n",
    "#Para legenda ficar fora do gráfico\n",
    "ax = plt.subplot(111)\n",
    "box = ax.get_position()\n",
    "ax.set_position([box.x0, box.y0, box.width * 0.8, box.height])\n",
    "ax.legend(loc='center left', bbox_to_anchor=(1, 0.5))\n",
    "plt.show()"
   ]
  },
  {
   "cell_type": "code",
   "execution_count": 166,
   "metadata": {},
   "outputs": [
    {
     "name": "stdout",
     "output_type": "stream",
     "text": [
      "Zona      Rural  Urbana   All\n",
      "Internet                     \n",
      "Sim        20.8    63.6  57.7\n",
      "Nao        79.2    36.4  42.3\n"
     ]
    },
    {
     "data": {
      "image/png": "[encoded data removed]",
      "text/plain": [
       "<matplotlib.figure.Figure at 0x23805f50f28>"
      ]
     },
     "metadata": {},
     "output_type": "display_data"
    }
   ],
   "source": [
    "#Acesso a internet por zona rural e urbana\n",
    "\n",
    "\n",
    "ct2 = (pd.crosstab(dados.Internet,dados.Zona,margins=True,rownames=['Internet'], colnames=['Zona'], normalize='columns')*100).round(decimals=1)\n",
    "print(ct2)\n",
    "\n",
    "\n",
    "plot = ct2.iloc[0:5,0:2].T.plot(kind='bar', stacked=True,title='Acesso a Internet por Zona')\n",
    "plot.set_ylim([0, 100])\n",
    "plt.ylabel('Freq.Relativa (em %)')\n",
    "#Para legenda ficar fora do gráfico\n",
    "ax = plt.subplot(111)\n",
    "box = ax.get_position()\n",
    "ax.set_position([box.x0, box.y0, box.width * 0.8, box.height])\n",
    "ax.legend(loc='center left', bbox_to_anchor=(1, 0.5))\n",
    "plt.show()\n",
    "\n",
    "\n"
   ]
  },
  {
   "cell_type": "code",
   "execution_count": null,
   "metadata": {},
   "outputs": [],
   "source": [
    "\n"
   ]
  },
  {
   "cell_type": "code",
   "execution_count": null,
   "metadata": {},
   "outputs": [],
   "source": []
  },
  {
   "cell_type": "markdown",
   "metadata": {},
   "source": [
    "___\n",
    "## Conclusão "
   ]
  },
  {
   "cell_type": "markdown",
   "metadata": {
    "collapsed": true
   },
   "source": [
    "Descreva aqui suas conclusões!"
   ]
  },
  {
   "cell_type": "code",
   "execution_count": 28,
   "metadata": {
    "collapsed": true
   },
   "outputs": [],
   "source": [
    "cut.to_excel('stat1DOM15.xlsx')"
   ]
  },
  {
   "cell_type": "code",
   "execution_count": null,
   "metadata": {
    "collapsed": true
   },
   "outputs": [],
   "source": []
  }
 ],
 "metadata": {
  "anaconda-cloud": {},
  "kernelspec": {
   "display_name": "Python 3",
   "language": "python",
   "name": "python3"
  },
  "language_info": {
   "codemirror_mode": {
    "name": "ipython",
    "version": 3
   },
   "file_extension": ".py",
   "mimetype": "text/x-python",
   "name": "python",
   "nbconvert_exporter": "python",
   "pygments_lexer": "ipython3",
   "version": "3.6.0"
  }
 },
 "nbformat": 4,
 "nbformat_minor": 1
}
